{
  "nbformat": 4,
  "nbformat_minor": 0,
  "metadata": {
    "colab": {
      "provenance": []
    },
    "kernelspec": {
      "name": "python3",
      "display_name": "Python 3"
    },
    "language_info": {
      "name": "python"
    }
  },
  "cells": [
    {
      "cell_type": "code",
      "execution_count": 1,
      "metadata": {
        "colab": {
          "base_uri": "https://localhost:8080/"
        },
        "id": "ubJpBWIfdPPT",
        "outputId": "7f0e73b6-f5e0-4fe4-b585-7ddbbbabbdd6"
      },
      "outputs": [
        {
          "output_type": "stream",
          "name": "stdout",
          "text": [
            "             Transaction date  House age  Distance to the nearest MRT station  \\\n",
            "0  2012-09-02 16:42:30.519336       13.3                            4082.0150   \n",
            "1  2012-09-04 22:52:29.919544       35.5                             274.0144   \n",
            "2  2012-09-05 01:10:52.349449        1.1                            1978.6710   \n",
            "3  2012-09-05 13:26:01.189083       22.2                            1055.0670   \n",
            "4  2012-09-06 08:29:47.910523        8.5                             967.4000   \n",
            "\n",
            "   Number of convenience stores   Latitude   Longitude  \\\n",
            "0                             8  25.007059  121.561694   \n",
            "1                             2  25.012148  121.546990   \n",
            "2                            10  25.003850  121.528336   \n",
            "3                             5  24.962887  121.482178   \n",
            "4                             6  25.011037  121.479946   \n",
            "\n",
            "   House price of unit area  \n",
            "0                  6.488673  \n",
            "1                 24.970725  \n",
            "2                 26.694267  \n",
            "3                 38.091638  \n",
            "4                 21.654710  \n"
          ]
        }
      ],
      "source": [
        "import pandas as pd\n",
        "data = pd.read_csv('Real_Estate.csv')\n",
        "\n",
        "# display the first few rows\n",
        "data_head = data.head()\n",
        "\n",
        "print(data_head)"
      ]
    },
    {
      "cell_type": "code",
      "source": [
        "print(data.info())"
      ],
      "metadata": {
        "colab": {
          "base_uri": "https://localhost:8080/"
        },
        "id": "vrm3xjG9dg5o",
        "outputId": "1045e48f-7191-41f7-fdbd-e2f25e98f532"
      },
      "execution_count": 2,
      "outputs": [
        {
          "output_type": "stream",
          "name": "stdout",
          "text": [
            "<class 'pandas.core.frame.DataFrame'>\n",
            "RangeIndex: 414 entries, 0 to 413\n",
            "Data columns (total 7 columns):\n",
            " #   Column                               Non-Null Count  Dtype  \n",
            "---  ------                               --------------  -----  \n",
            " 0   Transaction date                     414 non-null    object \n",
            " 1   House age                            414 non-null    float64\n",
            " 2   Distance to the nearest MRT station  414 non-null    float64\n",
            " 3   Number of convenience stores         414 non-null    int64  \n",
            " 4   Latitude                             414 non-null    float64\n",
            " 5   Longitude                            414 non-null    float64\n",
            " 6   House price of unit area             414 non-null    float64\n",
            "dtypes: float64(5), int64(1), object(1)\n",
            "memory usage: 22.8+ KB\n",
            "None\n"
          ]
        }
      ]
    },
    {
      "cell_type": "code",
      "source": [
        "from sklearn.model_selection import train_test_split\n",
        "from sklearn.preprocessing import StandardScaler\n",
        "import datetime\n",
        "\n",
        "# convert \"Transaction date\" to datetime and extract year and month\n",
        "data['Transaction date'] = pd.to_datetime(data['Transaction date'])\n",
        "data['Transaction year'] = data['Transaction date'].dt.year\n",
        "data['Transaction month'] = data['Transaction date'].dt.month\n"
      ],
      "metadata": {
        "id": "P5fV1HVRdhHU"
      },
      "execution_count": 3,
      "outputs": []
    },
    {
      "cell_type": "code",
      "source": [
        "# drop the original \"Transaction date\" as we've extracted relevant features\n",
        "data = data.drop(columns=['Transaction date'])\n",
        "\n",
        "# define features and target variable\n",
        "X = data.drop('House price of unit area', axis=1)\n",
        "y = data['House price of unit area']\n",
        "\n"
      ],
      "metadata": {
        "id": "Ta_E0EaudhR7"
      },
      "execution_count": 4,
      "outputs": []
    },
    {
      "cell_type": "code",
      "source": [
        "# split the data into training and testing sets\n",
        "X_train, X_test, y_train, y_test = train_test_split(X, y, test_size=0.2, random_state=42)\n",
        "\n",
        "# scale the features\n",
        "scaler = StandardScaler()\n",
        "X_train_scaled = scaler.fit_transform(X_train)\n",
        "X_test_scaled = scaler.transform(X_test)\n",
        "\n"
      ],
      "metadata": {
        "id": "TqSzE4R5dtu1"
      },
      "execution_count": 6,
      "outputs": []
    },
    {
      "cell_type": "code",
      "source": [
        "X_train_scaled.shape"
      ],
      "metadata": {
        "colab": {
          "base_uri": "https://localhost:8080/"
        },
        "id": "qREddJjadvZJ",
        "outputId": "ea49e18a-fb4b-47e1-e76c-352a1e46169a"
      },
      "execution_count": 7,
      "outputs": [
        {
          "output_type": "execute_result",
          "data": {
            "text/plain": [
              "(331, 7)"
            ]
          },
          "metadata": {},
          "execution_count": 7
        }
      ]
    },
    {
      "cell_type": "code",
      "source": [
        "X_test_scaled.shape"
      ],
      "metadata": {
        "colab": {
          "base_uri": "https://localhost:8080/"
        },
        "id": "84hD9PQSdvj6",
        "outputId": "b34812cc-7fb1-4bd4-f954-99cfd2406795"
      },
      "execution_count": 8,
      "outputs": [
        {
          "output_type": "execute_result",
          "data": {
            "text/plain": [
              "(83, 7)"
            ]
          },
          "metadata": {},
          "execution_count": 8
        }
      ]
    },
    {
      "cell_type": "code",
      "source": [
        "from sklearn.linear_model import LinearRegression\n",
        "from sklearn.tree import DecisionTreeRegressor\n",
        "from sklearn.ensemble import RandomForestRegressor, GradientBoostingRegressor\n",
        "from sklearn.metrics import mean_absolute_error, r2_score\n",
        "\n",
        "# initialize the models\n",
        "models = {\n",
        "    \"Linear Regression\": LinearRegression(),\n",
        "    \"Decision Tree\": DecisionTreeRegressor(random_state=42),\n",
        "    \"Random Forest\": RandomForestRegressor(random_state=42),\n",
        "    \"Gradient Boosting\": GradientBoostingRegressor(random_state=42)\n",
        "}\n"
      ],
      "metadata": {
        "id": "AR4aqJ7Dd1r7"
      },
      "execution_count": 9,
      "outputs": []
    },
    {
      "cell_type": "code",
      "source": [
        "# dictionary to hold the evaluation metrics for each model\n",
        "results = {}\n",
        "\n",
        "# train and evaluate each model\n",
        "for name, model in models.items():\n",
        "    # training the model\n",
        "    model.fit(X_train_scaled, y_train)\n",
        "\n",
        "    # making predictions on the test set\n",
        "    predictions = model.predict(X_test_scaled)\n",
        "\n",
        "    # calculating evaluation metrics\n",
        "    mae = mean_absolute_error(y_test, predictions)\n",
        "    r2 = r2_score(y_test, predictions)\n",
        "\n",
        "    # storing the metrics\n",
        "    results[name] = {\"MAE\": mae, \"R²\": r2}\n"
      ],
      "metadata": {
        "id": "VoiVv1Q-d12u"
      },
      "execution_count": 11,
      "outputs": []
    },
    {
      "cell_type": "code",
      "source": [
        "\n",
        "results_df = pd.DataFrame(results).T  # convert the results to a DataFrame for better readability\n",
        "print(results_df)"
      ],
      "metadata": {
        "colab": {
          "base_uri": "https://localhost:8080/"
        },
        "id": "mIevLnQGd9XL",
        "outputId": "c40a8667-cc98-47aa-d168-ab801b33891b"
      },
      "execution_count": 12,
      "outputs": [
        {
          "output_type": "stream",
          "name": "stdout",
          "text": [
            "                         MAE        R²\n",
            "Linear Regression   9.748246  0.529615\n",
            "Decision Tree      11.760342  0.204962\n",
            "Random Forest       9.887601  0.509547\n",
            "Gradient Boosting  10.000117  0.476071\n"
          ]
        }
      ]
    }
  ]
}